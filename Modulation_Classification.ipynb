{
  "nbformat": 4,
  "nbformat_minor": 0,
  "metadata": {
    "colab": {
      "provenance": [],
      "toc_visible": true
    },
    "kernelspec": {
      "name": "python3",
      "display_name": "Python 3"
    },
    "language_info": {
      "name": "python"
    },
    "gpuClass": "standard",
    "accelerator": "GPU"
  },
  "cells": [
    {
      "cell_type": "markdown",
      "source": [
        "# Modulation Classification"
      ],
      "metadata": {
        "id": "ZpWpPITL9h3R"
      }
    },
    {
      "cell_type": "markdown",
      "source": [
        "## Imports"
      ],
      "metadata": {
        "id": "emR6ELwzHiLC"
      }
    },
    {
      "cell_type": "code",
      "source": [
        "import pickle\n",
        "import numpy as np\n",
        "import pandas as pd\n",
        "import matplotlib.pyplot as plt\n",
        "from sklearn.preprocessing import normalize \n",
        "from scipy.integrate import cumtrapz\n",
        "from sklearn.preprocessing import StandardScaler\n",
        "from sklearn import preprocessing\n",
        "from sklearn.model_selection import train_test_split\n",
        "from keras.layers.core import Reshape,Dense,Dropout,Activation,Flatten\n",
        "import keras.models as models\n",
        "from keras.layers.convolutional import Conv2D, MaxPooling2D, ZeroPadding2D\n",
        "from keras.models import Sequential\n",
        "import keras\n",
        "from sklearn.metrics import confusion_matrix, ConfusionMatrixDisplay, accuracy_score\n",
        "from keras.models import Sequential\n"
      ],
      "metadata": {
        "id": "MSTMEi1FJrUl"
      },
      "execution_count": 16,
      "outputs": []
    },
    {
      "cell_type": "code",
      "source": [
        "from google.colab import drive\n",
        "drive.mount('/content/drive')"
      ],
      "metadata": {
        "colab": {
          "base_uri": "https://localhost:8080/"
        },
        "id": "NV62yw-FHnGZ",
        "outputId": "bdb6a307-3878-4209-95a2-60ac74a20b67"
      },
      "execution_count": 3,
      "outputs": [
        {
          "output_type": "stream",
          "name": "stdout",
          "text": [
            "Mounted at /content/drive\n"
          ]
        }
      ]
    },
    {
      "cell_type": "code",
      "source": [
        "PATH = \"/content/drive/MyDrive/Pattern Recognition/Modulation Classification/RML2016.10b.tar.bz2\""
      ],
      "metadata": {
        "id": "JemzPE8IhdMR"
      },
      "execution_count": 3,
      "outputs": []
    },
    {
      "cell_type": "markdown",
      "source": [
        "## Dowload Dataset"
      ],
      "metadata": {
        "id": "FkiZTBhw9lGT"
      }
    },
    {
      "cell_type": "code",
      "source": [
        "%cp -av \"/content/drive/MyDrive/Pattern Recognition/Modulation Classification/RML2016.10b.tar.bz2\" \"/content/dataset\""
      ],
      "metadata": {
        "colab": {
          "base_uri": "https://localhost:8080/"
        },
        "id": "D-jQJWYCkNT-",
        "outputId": "c58359dc-fad1-4d42-dd8d-5608a1b68334"
      },
      "execution_count": 4,
      "outputs": [
        {
          "output_type": "stream",
          "name": "stdout",
          "text": [
            "'/content/drive/MyDrive/Pattern Recognition/Modulation Classification/RML2016.10b.tar.bz2' -> '/content/dataset/RML2016.10b.tar.bz2'\n"
          ]
        }
      ]
    },
    {
      "cell_type": "code",
      "source": [
        "!tar xjvf \"/content/dataset/RML2016.10b.tar.bz2\""
      ],
      "metadata": {
        "colab": {
          "base_uri": "https://localhost:8080/"
        },
        "id": "sbnUWpAulhBq",
        "outputId": "4b3b534c-a1fb-4eb5-e518-68e61a22fcd4"
      },
      "execution_count": 5,
      "outputs": [
        {
          "output_type": "stream",
          "name": "stdout",
          "text": [
            "RML2016.10b.dat\n",
            "LICENSE.TXT\n"
          ]
        }
      ]
    },
    {
      "cell_type": "code",
      "source": [
        "with open(\"/content/RML2016.10b.dat\", 'rb') as f:\n",
        "    u = pickle._Unpickler(f)\n",
        "    u.encoding = 'latin1'\n",
        "    p = u.load()"
      ],
      "metadata": {
        "id": "ipMWyEtHmFIi"
      },
      "execution_count": null,
      "outputs": []
    },
    {
      "cell_type": "code",
      "source": [
        "file = open(\"/content/RML2016.10b.dat\",'rb')\n",
        "Xd = pickle.load(file, encoding = 'bytes')\n",
        "snrs, mods = map(lambda j: sorted(list(set(map(lambda x: x[j], Xd.keys())))), [1,0])\n",
        "X = [] \n",
        "lbl = []\n",
        "for mod in mods:\n",
        "    for snr in snrs:\n",
        "        X.append(Xd[(mod,snr)])\n",
        "        for i in range(Xd[(mod,snr)].shape[0]):  lbl.append((mod,snr))\n",
        "X = np.vstack(X)\n",
        "file.close()"
      ],
      "metadata": {
        "id": "a2UonfSxHlVu"
      },
      "execution_count": 6,
      "outputs": []
    },
    {
      "cell_type": "markdown",
      "source": [
        "## Visualization"
      ],
      "metadata": {
        "id": "aC2vkzy3nuBh"
      }
    },
    {
      "cell_type": "code",
      "source": [
        "def randomVisualization():\n",
        "  mod = lbl[0][0]\n",
        "  idx = []\n",
        "  res = []\n",
        "  idx.append([0, mod.decode(\"utf-8\"), lbl[0][1]])\n",
        "  for i in range(len(lbl)):\n",
        "    if lbl[i][0] == mod:\n",
        "      continue\n",
        "    idx.append([i-1, mod.decode(\"utf-8\"), lbl[i-1][1]])\n",
        "    mod = lbl[i][0]\n",
        "    idx.append([i, mod.decode(\"utf-8\"), lbl[i][1]])\n",
        "  idx.append([i-1, lbl[i-1][0].decode(\"utf-8\"), lbl[i-1][1]])\n",
        "  return idx"
      ],
      "metadata": {
        "id": "vqxaK-qlvMPv"
      },
      "execution_count": 7,
      "outputs": []
    },
    {
      "cell_type": "code",
      "source": [
        "def plotFigures(idx):\n",
        "  i = 0\n",
        "  while i < len(idx):\n",
        "    # plt.figure()\n",
        "    # plt.title(str(id[1]) + \" SNR = \" + str(id[2]))\n",
        "    # plt.plot(X[id[0]][0])\n",
        "    # plt.plot(X[id[0]][1])\n",
        "\n",
        "    fig, axs = plt.subplots(1,2, figsize=(20,5))\n",
        "    axs[0].plot(X[idx[i][0]][0])\n",
        "    axs[0].plot(X[idx[i][0]][1])\n",
        "    axs[0].set_title(str(idx[i][1]) + \", SNR = \" + str(idx[i][2]))\n",
        "    axs[1].plot(X[idx[i+1][0]][0])\n",
        "    axs[1].plot(X[idx[i+1][0]][1])\n",
        "    axs[1].set_title(str(idx[i+1][1]) + \", SNR = \" + str(idx[i+1][2]))\n",
        "    i += 2\n"
      ],
      "metadata": {
        "id": "pUn_YocBxoQ-"
      },
      "execution_count": 8,
      "outputs": []
    },
    {
      "cell_type": "code",
      "source": [
        "X.shape"
      ],
      "metadata": {
        "colab": {
          "base_uri": "https://localhost:8080/"
        },
        "id": "iQuUldBMnvG4",
        "outputId": "29c20299-071c-4741-fe63-0b5e81437a67"
      },
      "execution_count": null,
      "outputs": [
        {
          "output_type": "execute_result",
          "data": {
            "text/plain": [
              "(1200000, 2, 128)"
            ]
          },
          "metadata": {},
          "execution_count": 14
        }
      ]
    },
    {
      "cell_type": "code",
      "source": [
        "idx = randomVisualization()\n",
        "plotFigures(idx)"
      ],
      "metadata": {
        "id": "JeNbW9iBwZ3D"
      },
      "execution_count": null,
      "outputs": []
    },
    {
      "cell_type": "markdown",
      "source": [
        "## Create Features"
      ],
      "metadata": {
        "id": "PPlGipkyoh3p"
      }
    },
    {
      "cell_type": "markdown",
      "source": [
        "1. Raw time series as given (two channels)\n",
        "2. First derivative in time (two channels)\n",
        "3. Integral in time (two channels)\n",
        "4. combinations of 1,2 and 3. (More channels)"
      ],
      "metadata": {
        "id": "eGkz1G8UomQe"
      }
    },
    {
      "cell_type": "code",
      "source": [
        "features = {}"
      ],
      "metadata": {
        "id": "Pelp3k_Gn-Fk"
      },
      "execution_count": null,
      "outputs": []
    },
    {
      "cell_type": "code",
      "source": [
        "features['raw']        = X[:,0], X[:,1]"
      ],
      "metadata": {
        "id": "Ofd24jnOoxNU"
      },
      "execution_count": null,
      "outputs": []
    },
    {
      "cell_type": "code",
      "source": [
        "features['derivative'] = normalize(np.gradient(X[:,0], axis = 1)), normalize(np.gradient(X[:,1], axis = 1))"
      ],
      "metadata": {
        "id": "eNVBECpRoy5j"
      },
      "execution_count": null,
      "outputs": []
    },
    {
      "cell_type": "code",
      "source": [
        "features['integral']   = normalize(np.cumsum(X[:,0], axis = 1)), normalize(np.cumsum(X[:,1], axis = 1))"
      ],
      "metadata": {
        "id": "MA1ucDd7o0Xq"
      },
      "execution_count": null,
      "outputs": []
    },
    {
      "cell_type": "code",
      "source": [
        "features['raw'][1].shape"
      ],
      "metadata": {
        "colab": {
          "base_uri": "https://localhost:8080/"
        },
        "id": "DWxKlRWwpAu1",
        "outputId": "f755fc80-6b31-4717-be15-5e6daeeb32a1"
      },
      "execution_count": null,
      "outputs": [
        {
          "output_type": "execute_result",
          "data": {
            "text/plain": [
              "(1200000, 128)"
            ]
          },
          "metadata": {},
          "execution_count": 43
        }
      ]
    },
    {
      "cell_type": "code",
      "source": [
        "X = np.vstack(X)\n",
        "X = np.asarray(X)\n",
        "X = np.reshape(X, (1200000,256))\n",
        "\n",
        "scaler = StandardScaler()\n",
        "X = scaler.fit_transform(X)\n",
        "lbl = np.asarray(lbl) \n"
      ],
      "metadata": {
        "id": "9fFTfz9Wxk7w"
      },
      "execution_count": 10,
      "outputs": []
    },
    {
      "cell_type": "code",
      "source": [
        "X_deriv = []\n",
        "for x in X:\n",
        "  X_deriv.append(np.gradient(x))\n",
        "\n",
        "X_int = []\n",
        "for x in X:\n",
        "  X_int.append(cumtrapz(x, initial=0))\n",
        "\n",
        "# X_combined = []\n",
        "# for x,x_d,x_i in zip(X,X_deriv,X_int):\n",
        "#   X_combined.append(np.concatenate((x, x_d, x_i), axis=0))"
      ],
      "metadata": {
        "id": "ZmvOlNQHyUWy"
      },
      "execution_count": 11,
      "outputs": []
    },
    {
      "cell_type": "code",
      "source": [
        "X_deriv = np.asarray(X_deriv)"
      ],
      "metadata": {
        "id": "koKKmHAWzASp"
      },
      "execution_count": 12,
      "outputs": []
    },
    {
      "cell_type": "code",
      "source": [
        "X_int = np.asarray(X_int)"
      ],
      "metadata": {
        "id": "LG_mMlS9zBzn"
      },
      "execution_count": 13,
      "outputs": []
    },
    {
      "cell_type": "code",
      "source": [
        "X_combined = np.asarray(X_combined)"
      ],
      "metadata": {
        "id": "3i8udlC7vmAd"
      },
      "execution_count": null,
      "outputs": []
    },
    {
      "cell_type": "code",
      "source": [
        "y = np.array(lbl)\n",
        "\n",
        "le = preprocessing.LabelEncoder()\n",
        "le.fit(y[:,0])\n",
        "y = le.transform(y[:,0])\n",
        "y_new=[]\n",
        "for i in range(len(y)):\n",
        "  y_new.append([y[i],lbl[i][1]])\n",
        "\n",
        "y=np.array(y_new)"
      ],
      "metadata": {
        "id": "j_HyqHbA45SA"
      },
      "execution_count": 9,
      "outputs": []
    },
    {
      "cell_type": "code",
      "source": [
        "np.unique(np.array(lbl)[:,0])"
      ],
      "metadata": {
        "colab": {
          "base_uri": "https://localhost:8080/"
        },
        "id": "sqCSo1AMgIDK",
        "outputId": "975ea2bf-91a3-4b31-c80c-7547944807a0"
      },
      "execution_count": 108,
      "outputs": [
        {
          "output_type": "execute_result",
          "data": {
            "text/plain": [
              "array([b'8PSK', b'AM-DSB', b'BPSK', b'CPFSK', b'GFSK', b'PAM4', b'QAM16',\n",
              "       b'QAM64', b'QPSK', b'WBFM'], dtype='|S21')"
            ]
          },
          "metadata": {},
          "execution_count": 108
        }
      ]
    },
    {
      "cell_type": "code",
      "source": [
        "lbls = np.unique(np.array(lbl)[:,0])\n",
        "classes = []\n",
        "for c in lbls: \n",
        "  classes.append(c.decode(\"utf-8\"))"
      ],
      "metadata": {
        "id": "DUQmIp0O2EBX"
      },
      "execution_count": 10,
      "outputs": []
    },
    {
      "cell_type": "code",
      "source": [
        "snrs = np.unique(np.array(lbl)[:,1])\n",
        "lbl_snrs = []\n",
        "for snr in snrs: \n",
        "  lbl_snrs.append(int(snr.decode(\"utf-8\")))\n",
        "lbl_snrs.sort()"
      ],
      "metadata": {
        "id": "TFPXApOX4O8Z"
      },
      "execution_count": 11,
      "outputs": []
    },
    {
      "cell_type": "markdown",
      "source": [
        "## Split Data"
      ],
      "metadata": {
        "id": "NpqM3FBzrJ6N"
      }
    },
    {
      "cell_type": "code",
      "source": [
        "# X_train, X_test, y_train, y_test = train_test_split(X, lbl, test_size=0.3, random_state=0)\n",
        "# X_deriv_train, X_deriv_test, y_deriv_train, y_deriv_test = train_test_split(X_deriv, lbl, test_size=0.3, random_state=0)\n",
        "# X_int_train, X_int_test, y_int_train, y_int_test = train_test_split(X_int, lbl, test_size=0.3, random_state=0)\n",
        "# X_combined_train, X_combined_test, y_combined_train, y_combined_test = train_test_split(X_combined, lbl, test_size=0.3, random_state=0)"
      ],
      "metadata": {
        "id": "nA_CuRpv8aK4"
      },
      "execution_count": 14,
      "outputs": []
    },
    {
      "cell_type": "code",
      "source": [
        "# x_train, x_test, y_train, y_test = train_test_split(X, lbl, train_size=0.7, test_size=0.3, stratify=lbl)\n",
        "# x_train, x_val, y_train, y_val = train_test_split(x_train, y_train, train_size=19/20, test_size=1/20,stratify=y_train)\n",
        "\n",
        "# x_deriv_train, x_deriv_test, y_deriv_train, y_deriv_test = train_test_split(X, lbl, train_size=0.7, test_size=0.3, stratify=lbl)\n",
        "# x_deriv_train, x_deriv_val, y_deriv_train, y_deriv_val = train_test_split(x_deriv_train, y_deriv_train, train_size=19/20, test_size=1/20,stratify=y_deriv_train)\n",
        "\n",
        "# x_int_train, x_int_test, y_int_train, y_int_test = train_test_split(X, lbl, train_size=0.7, test_size=0.3, stratify=lbl)\n",
        "# x_int_train, x_int_val, y_int_train, y_int_val = train_test_split(x_int_train, y_int_train, train_size=19/20, test_size=1/20,stratify=y_int_train)"
      ],
      "metadata": {
        "id": "oeABZIhkQz9t"
      },
      "execution_count": null,
      "outputs": []
    },
    {
      "cell_type": "code",
      "source": [
        "x_train, x_test, y_train, y_test = train_test_split(X, y, train_size=0.7, test_size=0.3, stratify=lbl)\n",
        "x_train, x_val, y_train, y_val = train_test_split(x_train, y_train, train_size=19/20, test_size=1/20,stratify=y_train)"
      ],
      "metadata": {
        "id": "-NxzDuZiSmRj"
      },
      "execution_count": 12,
      "outputs": []
    },
    {
      "cell_type": "code",
      "source": [
        "x_train = x_train.reshape(x_train.shape[0],1,x_train.shape[1],x_train.shape[2])\n",
        "x_val = x_val.reshape(x_val.shape[0],1,x_val.shape[1],x_val.shape[2])\n",
        "x_test = x_test.reshape(x_test.shape[0],1,x_test.shape[1],x_test.shape[2])"
      ],
      "metadata": {
        "id": "IKW0LjIzQliS"
      },
      "execution_count": 111,
      "outputs": []
    },
    {
      "cell_type": "code",
      "source": [
        "print(x_train.shape[:])"
      ],
      "metadata": {
        "colab": {
          "base_uri": "https://localhost:8080/"
        },
        "id": "Sy6P23VsQd0M",
        "outputId": "18eed8b2-b77f-4251-be42-5a216602e00b"
      },
      "execution_count": 68,
      "outputs": [
        {
          "output_type": "stream",
          "name": "stdout",
          "text": [
            "(798000, 2, 128)\n"
          ]
        }
      ]
    },
    {
      "cell_type": "code",
      "source": [
        "y_train[0]"
      ],
      "metadata": {
        "colab": {
          "base_uri": "https://localhost:8080/"
        },
        "id": "ksM-stzlS6c8",
        "outputId": "60e3787e-2768-48b3-d6ea-e0ac627e891f"
      },
      "execution_count": 38,
      "outputs": [
        {
          "output_type": "execute_result",
          "data": {
            "text/plain": [
              "array([1, 6])"
            ]
          },
          "metadata": {},
          "execution_count": 38
        }
      ]
    },
    {
      "cell_type": "code",
      "source": [
        "y_train[0]"
      ],
      "metadata": {
        "colab": {
          "base_uri": "https://localhost:8080/"
        },
        "id": "rBdtz6K_16Ty",
        "outputId": "fd8cb815-9b1f-4958-b8f8-ec77be6224da"
      },
      "execution_count": 54,
      "outputs": [
        {
          "output_type": "execute_result",
          "data": {
            "text/plain": [
              "array([ 7, 10])"
            ]
          },
          "metadata": {},
          "execution_count": 54
        }
      ]
    },
    {
      "cell_type": "markdown",
      "source": [
        "## CNN Model"
      ],
      "metadata": {
        "id": "m6anhE_tT3A9"
      }
    },
    {
      "cell_type": "markdown",
      "source": [
        "### Functions"
      ],
      "metadata": {
        "id": "quWCGCUv3XTC"
      }
    },
    {
      "cell_type": "code",
      "source": [
        "def plot_evaluation(model_history):\n",
        "  plt.plot(model_history.history['accuracy'], label='accuracy')\n",
        "  plt.plot(model_history.history['val_accuracy'], label = 'val_accuracy')\n",
        "  plt.xlabel('Epoch')\n",
        "  plt.ylabel('Accuracy')\n",
        "  plt.legend(loc='lower right')\n",
        "  plt.title(\"Train vs val accuracy\")\n",
        "  plt.show()\n",
        "\n",
        "  plt.plot(model_history.history['loss'])\n",
        "  plt.plot(model_history.history['val_loss'])\n",
        "  plt.title('Model Loss')\n",
        "  plt.ylabel('Loss')\n",
        "  plt.xlabel('Epoch')\n",
        "  plt.legend(['train', 'val'], loc='upper left')\n",
        "  plt.show()\n"
      ],
      "metadata": {
        "id": "zN5brBw9XsfY"
      },
      "execution_count": 13,
      "outputs": []
    },
    {
      "cell_type": "code",
      "source": [
        "def plot_confusion_matrix(y_test, y_test_hat):\n",
        "  cm = confusion_matrix(y_test[:,0], y_test_hat)\n",
        "  # Plotting the confusion matrix\n",
        "  plt.imshow(cm, cmap='Blues', aspect='auto')\n",
        "  plt.colorbar()\n",
        "  plt.xlabel('Predicted')\n",
        "  plt.ylabel('True')\n",
        "  plt.xticks(np.arange(len(classes)), classes)\n",
        "  plt.yticks(np.arange(len(classes)), classes)\n",
        "  # Adding numbers to the cells\n",
        "  for i in range(cm.shape[0]):\n",
        "      for j in range(cm.shape[1]):\n",
        "          plt.text(j, i, cm[i, j], ha='center', va='center', color='black')\n",
        "  plt.gcf().set_size_inches(10, 8)\n",
        "  plt.show()"
      ],
      "metadata": {
        "id": "qJAHPLmfyNs6"
      },
      "execution_count": 14,
      "outputs": []
    },
    {
      "cell_type": "code",
      "source": [
        "def plot_per_snr(y_test, y_test_hat):\n",
        "  per_snr = []\n",
        "  for snr in lbl_snrs:\n",
        "    idx = np.where(y_test[:,1]==int(snr))\n",
        "    acc = accuracy_score(y_test[idx][:,0], y_test_hat[idx])\n",
        "    per_snr.append(acc)\n",
        "  plt.plot(lbl_snrs, per_snr)\n",
        "  plt.xlabel('SNR')\n",
        "  plt.ylabel('Accuracy')\n",
        "  plt.title('Accuracy per SNR')\n",
        "  plt.show()"
      ],
      "metadata": {
        "id": "wTVhwU1l4Ans"
      },
      "execution_count": 15,
      "outputs": []
    },
    {
      "cell_type": "code",
      "source": [
        "def evaluate_model(model_history, y_test, y_test_hat):\n",
        "  plot_evaluation(model_history)\n",
        "  \n"
      ],
      "metadata": {
        "id": "SDMxgbhpMXtI"
      },
      "execution_count": null,
      "outputs": []
    },
    {
      "cell_type": "markdown",
      "source": [
        "### Model"
      ],
      "metadata": {
        "id": "fEuFcMKd3Y8f"
      }
    },
    {
      "cell_type": "code",
      "source": [
        "model = keras.models.Sequential()\n",
        "model.add(Reshape(list(x_train.shape[1:])+[1], input_shape=list(x_train.shape[1:])))\n",
        "model.add(ZeroPadding2D((0, 2)))\n",
        "model.add(Conv2D(64, (1, 3),padding='valid', activation=\"relu\", name=\"conv1\",kernel_initializer='glorot_uniform',data_format=\"channels_last\"))\n",
        "model.add(Dropout(0.5))\n",
        "model.add(ZeroPadding2D((0, 2)))\n",
        "model.add(Conv2D(16,(2, 3), padding='valid', activation=\"relu\", name=\"conv2\", kernel_initializer='glorot_uniform',data_format=\"channels_last\"))\n",
        "model.add(Dropout(0.5))\n",
        "model.add(Flatten())\n",
        "model.add(Dense(128, activation='relu', kernel_initializer='he_normal', name=\"dense1\"))\n",
        "model.add(Dropout(0.5))\n",
        "model.add(Dense( 10, kernel_initializer='he_normal', name=\"dense2\" ))\n",
        "model.add(Activation('softmax'))\n",
        "model.add(Reshape([10]))\n",
        "model.compile(loss='sparse_categorical_crossentropy', optimizer='adam', metrics=['accuracy'])\n",
        "model.summary()"
      ],
      "metadata": {
        "colab": {
          "base_uri": "https://localhost:8080/"
        },
        "id": "CLV9tlDzktdV",
        "outputId": "7bedcff7-cf1b-4263-f846-e1bc18925f8b"
      },
      "execution_count": 9,
      "outputs": [
        {
          "output_type": "stream",
          "name": "stdout",
          "text": [
            "Model: \"sequential\"\n",
            "_________________________________________________________________\n",
            " Layer (type)                Output Shape              Param #   \n",
            "=================================================================\n",
            " reshape (Reshape)           (None, 2, 128, 1)         0         \n",
            "                                                                 \n",
            " zero_padding2d (ZeroPadding  (None, 2, 132, 1)        0         \n",
            " 2D)                                                             \n",
            "                                                                 \n",
            " conv1 (Conv2D)              (None, 2, 130, 64)        256       \n",
            "                                                                 \n",
            " dropout (Dropout)           (None, 2, 130, 64)        0         \n",
            "                                                                 \n",
            " zero_padding2d_1 (ZeroPaddi  (None, 2, 134, 64)       0         \n",
            " ng2D)                                                           \n",
            "                                                                 \n",
            " conv2 (Conv2D)              (None, 1, 132, 16)        6160      \n",
            "                                                                 \n",
            " dropout_1 (Dropout)         (None, 1, 132, 16)        0         \n",
            "                                                                 \n",
            " flatten (Flatten)           (None, 2112)              0         \n",
            "                                                                 \n",
            " dense1 (Dense)              (None, 128)               270464    \n",
            "                                                                 \n",
            " dropout_2 (Dropout)         (None, 128)               0         \n",
            "                                                                 \n",
            " dense2 (Dense)              (None, 10)                1290      \n",
            "                                                                 \n",
            " activation (Activation)     (None, 10)                0         \n",
            "                                                                 \n",
            " reshape_1 (Reshape)         (None, 10)                0         \n",
            "                                                                 \n",
            "=================================================================\n",
            "Total params: 278,170\n",
            "Trainable params: 278,170\n",
            "Non-trainable params: 0\n",
            "_________________________________________________________________\n"
          ]
        }
      ]
    },
    {
      "cell_type": "code",
      "source": [
        "history = model.fit(x_train,\n",
        "    y_train[:,0],\n",
        "    batch_size=1024,\n",
        "    epochs=20,\n",
        "    verbose=2,\n",
        "    validation_data=(x_val, y_val[:,0]),\n",
        "    callbacks = [\n",
        "         keras.callbacks.EarlyStopping(monitor='val_loss', patience=5, verbose=0, mode='auto')\n",
        "    ])"
      ],
      "metadata": {
        "colab": {
          "base_uri": "https://localhost:8080/"
        },
        "id": "ZqFpQADelVgt",
        "outputId": "b9467714-be4f-4ede-8b93-ac62b66ca196"
      },
      "execution_count": 10,
      "outputs": [
        {
          "output_type": "stream",
          "name": "stdout",
          "text": [
            "Epoch 1/20\n",
            "780/780 - 25s - loss: 1.8830 - accuracy: 0.2577 - val_loss: 1.5046 - val_accuracy: 0.4025 - 25s/epoch - 32ms/step\n",
            "Epoch 2/20\n",
            "780/780 - 15s - loss: 1.5016 - accuracy: 0.3883 - val_loss: 1.3393 - val_accuracy: 0.4412 - 15s/epoch - 19ms/step\n",
            "Epoch 3/20\n",
            "780/780 - 15s - loss: 1.4097 - accuracy: 0.4166 - val_loss: 1.2842 - val_accuracy: 0.4676 - 15s/epoch - 19ms/step\n",
            "Epoch 4/20\n",
            "780/780 - 15s - loss: 1.3663 - accuracy: 0.4317 - val_loss: 1.2386 - val_accuracy: 0.4813 - 15s/epoch - 19ms/step\n",
            "Epoch 5/20\n",
            "780/780 - 15s - loss: 1.3434 - accuracy: 0.4397 - val_loss: 1.2325 - val_accuracy: 0.4831 - 15s/epoch - 19ms/step\n",
            "Epoch 6/20\n",
            "780/780 - 15s - loss: 1.3290 - accuracy: 0.4440 - val_loss: 1.2289 - val_accuracy: 0.4796 - 15s/epoch - 19ms/step\n",
            "Epoch 7/20\n",
            "780/780 - 15s - loss: 1.3196 - accuracy: 0.4473 - val_loss: 1.2236 - val_accuracy: 0.4840 - 15s/epoch - 19ms/step\n",
            "Epoch 8/20\n",
            "780/780 - 15s - loss: 1.3103 - accuracy: 0.4513 - val_loss: 1.2260 - val_accuracy: 0.4834 - 15s/epoch - 20ms/step\n",
            "Epoch 9/20\n",
            "780/780 - 15s - loss: 1.3022 - accuracy: 0.4531 - val_loss: 1.1925 - val_accuracy: 0.4968 - 15s/epoch - 19ms/step\n",
            "Epoch 10/20\n",
            "780/780 - 15s - loss: 1.2961 - accuracy: 0.4567 - val_loss: 1.2128 - val_accuracy: 0.4882 - 15s/epoch - 19ms/step\n",
            "Epoch 11/20\n",
            "780/780 - 15s - loss: 1.2892 - accuracy: 0.4578 - val_loss: 1.1957 - val_accuracy: 0.4951 - 15s/epoch - 19ms/step\n",
            "Epoch 12/20\n",
            "780/780 - 15s - loss: 1.2838 - accuracy: 0.4609 - val_loss: 1.1803 - val_accuracy: 0.5024 - 15s/epoch - 19ms/step\n",
            "Epoch 13/20\n",
            "780/780 - 15s - loss: 1.2733 - accuracy: 0.4633 - val_loss: 1.1707 - val_accuracy: 0.5064 - 15s/epoch - 19ms/step\n",
            "Epoch 14/20\n",
            "780/780 - 15s - loss: 1.2658 - accuracy: 0.4653 - val_loss: 1.1781 - val_accuracy: 0.5025 - 15s/epoch - 19ms/step\n",
            "Epoch 15/20\n",
            "780/780 - 15s - loss: 1.2581 - accuracy: 0.4681 - val_loss: 1.1569 - val_accuracy: 0.5082 - 15s/epoch - 19ms/step\n",
            "Epoch 16/20\n",
            "780/780 - 15s - loss: 1.2549 - accuracy: 0.4692 - val_loss: 1.1723 - val_accuracy: 0.5000 - 15s/epoch - 19ms/step\n",
            "Epoch 17/20\n",
            "780/780 - 15s - loss: 1.2509 - accuracy: 0.4700 - val_loss: 1.1476 - val_accuracy: 0.5090 - 15s/epoch - 19ms/step\n",
            "Epoch 18/20\n",
            "780/780 - 15s - loss: 1.2465 - accuracy: 0.4717 - val_loss: 1.1482 - val_accuracy: 0.5083 - 15s/epoch - 19ms/step\n",
            "Epoch 19/20\n",
            "780/780 - 15s - loss: 1.2446 - accuracy: 0.4716 - val_loss: 1.1431 - val_accuracy: 0.5104 - 15s/epoch - 19ms/step\n",
            "Epoch 20/20\n",
            "780/780 - 15s - loss: 1.2420 - accuracy: 0.4732 - val_loss: 1.1552 - val_accuracy: 0.5087 - 15s/epoch - 19ms/step\n"
          ]
        }
      ]
    },
    {
      "cell_type": "markdown",
      "source": [
        "### Evaluation"
      ],
      "metadata": {
        "id": "X1hgcLHf3U2Q"
      }
    },
    {
      "cell_type": "code",
      "source": [
        "plot_evaluation(history)"
      ],
      "metadata": {
        "colab": {
          "base_uri": "https://localhost:8080/",
          "height": 573
        },
        "id": "DrJe_99bp8ac",
        "outputId": "f8ba09c2-c5ed-4f49-adb7-7e9ece10a193"
      },
      "execution_count": 17,
      "outputs": [
        {
          "output_type": "display_data",
          "data": {
            "text/plain": [
              "<Figure size 432x288 with 1 Axes>"
            ],
            "image/png": "[encoded data removed]"
          },
          "metadata": {
            "needs_background": "light"
          }
        },
        {
          "output_type": "display_data",
          "data": {
            "text/plain": [
              "<Figure size 432x288 with 1 Axes>"
            ],
            "image/png": "[encoded data removed]"
          },
          "metadata": {
            "needs_background": "light"
          }
        }
      ]
    },
    {
      "cell_type": "code",
      "source": [
        "y_hat = model.predict(x_test)\n",
        "res = []\n",
        "for test in y_hat:\n",
        "  res.append(np.argmax(test))\n",
        "res = np.array(res)"
      ],
      "metadata": {
        "colab": {
          "base_uri": "https://localhost:8080/"
        },
        "id": "igom7c9nxf8w",
        "outputId": "1641ecde-f728-48e3-ce50-14849eddcfb1"
      },
      "execution_count": 111,
      "outputs": [
        {
          "output_type": "stream",
          "name": "stdout",
          "text": [
            "11250/11250 [==============================] - 27s 2ms/step\n"
          ]
        }
      ]
    },
    {
      "cell_type": "code",
      "source": [
        "plot_confusion_matrix(y_test, res)"
      ],
      "metadata": {
        "colab": {
          "base_uri": "https://localhost:8080/",
          "height": 497
        },
        "id": "b9WLRTxvxp1o",
        "outputId": "cb49529e-6200-4ead-e80d-276affc345e0"
      },
      "execution_count": 112,
      "outputs": [
        {
          "output_type": "display_data",
          "data": {
            "text/plain": [
              "<Figure size 720x576 with 2 Axes>"
            ],
            "image/png": "[encoded data removed]"
          },
          "metadata": {
            "needs_background": "light"
          }
        }
      ]
    },
    {
      "cell_type": "code",
      "source": [
        "plot_per_snr(y_test, res)"
      ],
      "metadata": {
        "colab": {
          "base_uri": "https://localhost:8080/",
          "height": 295
        },
        "id": "d62VhzilqGXu",
        "outputId": "41ed9395-69b5-4130-8816-a43d97f44d61"
      },
      "execution_count": 127,
      "outputs": [
        {
          "output_type": "display_data",
          "data": {
            "text/plain": [
              "<Figure size 432x288 with 1 Axes>"
            ],
            "image/png": "[encoded data removed]"
          },
          "metadata": {
            "needs_background": "light"
          }
        }
      ]
    },
    {
      "cell_type": "markdown",
      "source": [
        "## Vanilla RNN Model"
      ],
      "metadata": {
        "id": "vmWIA0lEKrsC"
      }
    }
  ]
}